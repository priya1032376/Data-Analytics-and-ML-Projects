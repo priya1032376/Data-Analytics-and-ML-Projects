{
 "cells": [
  {
   "cell_type": "code",
   "execution_count": 1,
   "id": "0fb9cce7-1e2b-4614-ba87-c0cc5d475c45",
   "metadata": {},
   "outputs": [],
   "source": [
    "import pandas as pd\n",
    "import numpy as np\n",
    "import matplotlib.pyplot as plt\n",
    "import seaborn as sns\n",
    "import scipy.stats as t"
   ]
  },
  {
   "cell_type": "code",
   "execution_count": 2,
   "id": "fc2fec98-3fba-4e8c-936b-a0f69d337eb9",
   "metadata": {},
   "outputs": [],
   "source": [
    "df = pd.read_csv(\"C:/Users/mishrap6/OneDrive - Zimmer Biomet/Downloads/DS1_C8_Computers_Data_Project (1).csv\")"
   ]
  },
  {
   "cell_type": "code",
   "execution_count": 3,
   "id": "376d4194-5c2f-4ddb-83d8-d4bfe4d522c6",
   "metadata": {},
   "outputs": [
    {
     "data": {
      "text/html": [
       "<div>\n",
       "<style scoped>\n",
       "    .dataframe tbody tr th:only-of-type {\n",
       "        vertical-align: middle;\n",
       "    }\n",
       "\n",
       "    .dataframe tbody tr th {\n",
       "        vertical-align: top;\n",
       "    }\n",
       "\n",
       "    .dataframe thead th {\n",
       "        text-align: right;\n",
       "    }\n",
       "</style>\n",
       "<table border=\"1\" class=\"dataframe\">\n",
       "  <thead>\n",
       "    <tr style=\"text-align: right;\">\n",
       "      <th></th>\n",
       "      <th>index</th>\n",
       "      <th>price</th>\n",
       "      <th>speed</th>\n",
       "      <th>hd</th>\n",
       "      <th>ram</th>\n",
       "      <th>screen</th>\n",
       "      <th>cd</th>\n",
       "      <th>multi</th>\n",
       "      <th>premium</th>\n",
       "      <th>ads_2022</th>\n",
       "      <th>ads_2023</th>\n",
       "      <th>trend</th>\n",
       "    </tr>\n",
       "  </thead>\n",
       "  <tbody>\n",
       "    <tr>\n",
       "      <th>0</th>\n",
       "      <td>1</td>\n",
       "      <td>1499</td>\n",
       "      <td>25</td>\n",
       "      <td>80</td>\n",
       "      <td>4</td>\n",
       "      <td>14</td>\n",
       "      <td>no</td>\n",
       "      <td>no</td>\n",
       "      <td>yes</td>\n",
       "      <td>94</td>\n",
       "      <td>94</td>\n",
       "      <td>1</td>\n",
       "    </tr>\n",
       "    <tr>\n",
       "      <th>1</th>\n",
       "      <td>2</td>\n",
       "      <td>1795</td>\n",
       "      <td>33</td>\n",
       "      <td>85</td>\n",
       "      <td>2</td>\n",
       "      <td>14</td>\n",
       "      <td>no</td>\n",
       "      <td>no</td>\n",
       "      <td>yes</td>\n",
       "      <td>94</td>\n",
       "      <td>94</td>\n",
       "      <td>1</td>\n",
       "    </tr>\n",
       "    <tr>\n",
       "      <th>2</th>\n",
       "      <td>3</td>\n",
       "      <td>1595</td>\n",
       "      <td>25</td>\n",
       "      <td>170</td>\n",
       "      <td>4</td>\n",
       "      <td>15</td>\n",
       "      <td>no</td>\n",
       "      <td>no</td>\n",
       "      <td>yes</td>\n",
       "      <td>94</td>\n",
       "      <td>94</td>\n",
       "      <td>1</td>\n",
       "    </tr>\n",
       "    <tr>\n",
       "      <th>3</th>\n",
       "      <td>4</td>\n",
       "      <td>1849</td>\n",
       "      <td>25</td>\n",
       "      <td>170</td>\n",
       "      <td>8</td>\n",
       "      <td>14</td>\n",
       "      <td>no</td>\n",
       "      <td>no</td>\n",
       "      <td>no</td>\n",
       "      <td>94</td>\n",
       "      <td>94</td>\n",
       "      <td>1</td>\n",
       "    </tr>\n",
       "    <tr>\n",
       "      <th>4</th>\n",
       "      <td>5</td>\n",
       "      <td>3295</td>\n",
       "      <td>33</td>\n",
       "      <td>340</td>\n",
       "      <td>16</td>\n",
       "      <td>14</td>\n",
       "      <td>no</td>\n",
       "      <td>no</td>\n",
       "      <td>yes</td>\n",
       "      <td>94</td>\n",
       "      <td>104</td>\n",
       "      <td>1</td>\n",
       "    </tr>\n",
       "  </tbody>\n",
       "</table>\n",
       "</div>"
      ],
      "text/plain": [
       "   index  price  speed   hd  ram  screen  cd multi premium  ads_2022  \\\n",
       "0      1   1499     25   80    4      14  no    no     yes        94   \n",
       "1      2   1795     33   85    2      14  no    no     yes        94   \n",
       "2      3   1595     25  170    4      15  no    no     yes        94   \n",
       "3      4   1849     25  170    8      14  no    no      no        94   \n",
       "4      5   3295     33  340   16      14  no    no     yes        94   \n",
       "\n",
       "   ads_2023  trend  \n",
       "0        94      1  \n",
       "1        94      1  \n",
       "2        94      1  \n",
       "3        94      1  \n",
       "4       104      1  "
      ]
     },
     "execution_count": 3,
     "metadata": {},
     "output_type": "execute_result"
    }
   ],
   "source": [
    "df.head()\n"
   ]
  },
  {
   "cell_type": "code",
   "execution_count": 4,
   "id": "38323ccc-15fc-41fa-bf6f-5f20a5004777",
   "metadata": {},
   "outputs": [
    {
     "data": {
      "text/plain": [
       "(6259, 12)"
      ]
     },
     "execution_count": 4,
     "metadata": {},
     "output_type": "execute_result"
    }
   ],
   "source": [
    "df.shape"
   ]
  },
  {
   "cell_type": "code",
   "execution_count": 5,
   "id": "7384ea72-4ccf-4d13-a492-6a2575e6eec9",
   "metadata": {},
   "outputs": [
    {
     "data": {
      "text/plain": [
       "index       0\n",
       "price       0\n",
       "speed       0\n",
       "hd          0\n",
       "ram         0\n",
       "screen      0\n",
       "cd          0\n",
       "multi       0\n",
       "premium     0\n",
       "ads_2022    0\n",
       "ads_2023    0\n",
       "trend       0\n",
       "dtype: int64"
      ]
     },
     "execution_count": 5,
     "metadata": {},
     "output_type": "execute_result"
    }
   ],
   "source": [
    "df.isnull().sum()\n",
    "\n",
    "# no null,values in the data so no cleasning or missing value treatment needed"
   ]
  },
  {
   "cell_type": "markdown",
   "id": "3748c265-0eeb-47f6-b2aa-72cd8230d8ec",
   "metadata": {},
   "source": [
    "### Task 1.a\n",
    "probablity of customer to purchase specs as - \n",
    "RAM = 8GB\n",
    "Screensize = 14 inch\n",
    "processor - 33 MHz"
   ]
  },
  {
   "cell_type": "code",
   "execution_count": 7,
   "id": "9b7f10f1-41c3-4eaa-80b7-1664f0a32097",
   "metadata": {},
   "outputs": [
    {
     "data": {
      "text/plain": [
       "Index(['index', 'price', 'speed', 'hd', 'ram', 'screen', 'cd', 'multi',\n",
       "       'premium', 'ads_2022', 'ads_2023', 'trend'],\n",
       "      dtype='object')"
      ]
     },
     "execution_count": 7,
     "metadata": {},
     "output_type": "execute_result"
    }
   ],
   "source": [
    "df.columns"
   ]
  },
  {
   "cell_type": "code",
   "execution_count": 8,
   "id": "226bf7f4-b91c-4c1b-adf6-204fdd3bb7ad",
   "metadata": {},
   "outputs": [
    {
     "name": "stdout",
     "output_type": "stream",
     "text": [
      "Total No. of Computers: 6259\n",
      "total no. of Required Computers: 376\n",
      "Probabillity of purchasing required computers : 0.06\n"
     ]
    }
   ],
   "source": [
    "total_com_count = df['price'].count()\n",
    "print(\"Total No. of Computers:\",total_com_count)\n",
    "\n",
    "required_computers = df[(df['ram'] == 8) & (df['screen'] == 14) & (df['speed'] == 33)]\n",
    "\n",
    "required_com_count = required_computers['price'].count()\n",
    "print(\"total no. of Required Computers:\",required_com_count)\n",
    "\n",
    "Probabillity_of_purchasing_required_com = round((required_com_count/total_com_count),2)\n",
    "\n",
    "print(\"Probabillity of purchasing required computers :\",Probabillity_of_purchasing_required_com)"
   ]
  },
  {
   "cell_type": "markdown",
   "id": "5e84fe2d-5158-4142-9de7-9b72220422ef",
   "metadata": {},
   "source": [
    "### Task 1.b"
   ]
  },
  {
   "cell_type": "code",
   "execution_count": 10,
   "id": "ff3649aa-8be4-494f-af76-e27a7999ea9d",
   "metadata": {},
   "outputs": [
    {
     "name": "stdout",
     "output_type": "stream",
     "text": [
      "Probabillity of purchasing required computers : 0.9\n",
      "probability of computers have cd for premium computers: 0.5\n"
     ]
    }
   ],
   "source": [
    "# Probabillity of selling premium computers\n",
    "\n",
    "premium_com = df[df['premium']=='yes'].shape[0]\n",
    "\n",
    "probabillity_of_selling_premium_com = round((premium_com/total_com_count),2)\n",
    "\n",
    "print(\"Probabillity of purchasing required computers :\",probabillity_of_selling_premium_com)\n",
    "\n",
    "# given that comp is premium what is the probablity it has cd\n",
    "\n",
    "premium_com_with_cd = df[(df['premium']=='yes') & (df['cd']=='yes')].shape[0]\n",
    "\n",
    "probability_of_cd_for_premium_cd = round((premium_com_with_cd/premium_com),2)\n",
    "\n",
    "print(\"probability of computers have cd for premium computers:\",probability_of_cd_for_premium_cd)"
   ]
  },
  {
   "cell_type": "markdown",
   "id": "efe244a3-c130-4ded-a1c4-9d67c877c4de",
   "metadata": {},
   "source": [
    "### Task 1.c"
   ]
  },
  {
   "cell_type": "code",
   "execution_count": 43,
   "id": "6587cecd-fbb8-4807-868c-4c06bd363b5a",
   "metadata": {},
   "outputs": [
    {
     "name": "stdout",
     "output_type": "stream",
     "text": [
      "The probablilty of computer having screen size greater than 15 inch and its permium computer: 0.08\n",
      "nonPremium count =  612\n",
      "Premium count =  5647\n",
      "The probablilty of computer having screen size less than equal to 14 inch and given computer are non permium computer: 0.69\n"
     ]
    }
   ],
   "source": [
    "#1 Probablility of comp have screen > 15 and Premium\n",
    "\n",
    "premium_com_screen15 = df[(df['premium']=='yes') & (df['screen'] >15)].shape[0]\n",
    "\n",
    "probability_of_premium_and_screen15 = round((premium_com_screen15/total_com_count),2)\n",
    "print(\"The probablilty of computer having screen size greater than 15 inch and its permium computer:\", probability_of_premium_and_screen15)\n",
    "\n",
    "\n",
    "#2 Given that comp is not permium, find probablity of comp having screen size >=14 inch\n",
    "\n",
    "nonpremium_com = df[(df['premium'] == 'no')]['price'].shape[0]\n",
    "premium_com = df[(df['premium'] == 'yes')]['price'].shape[0]\n",
    "print(\"nonPremium count = \",nonpremium_com)\n",
    "print(\"Premium count = \",premium_com)\n",
    "\n",
    "\n",
    "nonpremium_com_screen_14 = df[(df['premium'] == 'no') & (df['screen'] <= 14)].shape[0]\n",
    "probablilty_of_nonpremium_com_screen_14 = round((nonpremium_com_screen_14/nonpremium_com),2)\n",
    "print(\"The probablilty of computer having screen size less than equal to 14 inch and given computer are non permium computer:\", probablilty_of_nonpremium_com_screen_14)"
   ]
  },
  {
   "cell_type": "markdown",
   "id": "51f9bb08-18ff-4a7f-b5bc-1e7f396de0f4",
   "metadata": {},
   "source": [
    "### Task 1.d"
   ]
  },
  {
   "cell_type": "code",
   "execution_count": 14,
   "id": "031cae32-699c-40a5-b27c-9c9b661a1e2f",
   "metadata": {},
   "outputs": [
    {
     "name": "stdout",
     "output_type": "stream",
     "text": [
      "Joint probablity of a computer have both CD player and multimedia 0.14\n",
      "The probablilty of computer having Multiplayer given computer has CD: 0.3\n"
     ]
    }
   ],
   "source": [
    "# 1. What is the joint probablity fo a computer have both Cd and multimedia\n",
    "\n",
    "total_comp = df.shape[0] # shape[0] to count\n",
    "\n",
    "cd_multi_comp = df[(df['cd'] == 'yes') & (df['multi']== 'yes')].shape[0]\n",
    "\n",
    "probablity_of_cd_multi_comp = cd_multi_comp/total_comp\n",
    "\n",
    "print(\"Joint probablity of a computer have both CD player and multimedia\",round(probablity_of_cd_multi_comp,2))\n",
    "\n",
    "\n",
    "#2 Given that com has CD player what is the probabilty it also has multiplayer\n",
    "\n",
    "cd_comp = df[(df['cd'] == 'yes')].shape[0]\n",
    "\n",
    "cd_comp_with_multi = df[(df['cd'] == 'yes') & (df['multi'] == 'yes')].shape[0]\n",
    "\n",
    "probablity_of_multi_for_cdcomp = round((cd_comp_with_multi/cd_comp),2)\n",
    "\n",
    "\n",
    "print(\"The probablilty of computer having Multiplayer given computer has CD:\", probablity_of_multi_for_cdcomp)\n",
    "\n"
   ]
  },
  {
   "cell_type": "markdown",
   "id": "67630cac-8714-4206-b00f-ab7f11da9dc5",
   "metadata": {},
   "source": [
    "### Task 2.a"
   ]
  },
  {
   "cell_type": "code",
   "execution_count": 16,
   "id": "ed916f6b-3a9f-4f8c-9be2-689dbd48ff2e",
   "metadata": {},
   "outputs": [
    {
     "name": "stdout",
     "output_type": "stream",
     "text": [
      "Avg price of computer from whole popultaion: 2219.58\n"
     ]
    }
   ],
   "source": [
    "#1. Avg price os computer from popultaion\n",
    "\n",
    "import statistics as st\n",
    "\n",
    "p_price_mean = st.mean(df['price'])\n",
    "print(\"Avg price of computer from whole popultaion:\", round(p_price_mean,2))\n"
   ]
  },
  {
   "cell_type": "markdown",
   "id": "050155bc-f471-4cfa-8aca-c8a40e32b0ba",
   "metadata": {},
   "source": [
    "### Task 2.b"
   ]
  },
  {
   "cell_type": "code",
   "execution_count": 24,
   "id": "db88a195-e657-46ef-bf43-49d165d97afb",
   "metadata": {},
   "outputs": [
    {
     "name": "stdout",
     "output_type": "stream",
     "text": [
      "Average price (Simple Random Sampling without replacement): 2243.87\n",
      "Average price (Simple Random Sampling with replacement): 2181.61\n",
      "Average price (Systematic Sampling): 2217.14\n",
      "Average price (Stratified Sampling): 2239.22\n",
      "Average price (Cluster Sampling): 2194.68\n"
     ]
    }
   ],
   "source": [
    "\n",
    "\n",
    "#2. how does avg price of sample vary, when data is sampled using diff sampling technique\n",
    "\n",
    "#simple random sampling without replacement\n",
    "\n",
    "sample_size=100\n",
    "\n",
    "simple_random_without_replacement = df.sample(n=sample_size, random_state = 1)\n",
    "avg_price_simple_random_without_replacement = st.mean(simple_random_without_replacement['price'])\n",
    "print(\"Average price (Simple Random Sampling without replacement):\", round(avg_price_simple_random_without_replacement, 2))\n",
    "\n",
    "\n",
    "#simple random sampling with replacement\n",
    "\n",
    "simple_random_with_replacement = df.sample(n=sample_size, replace = True,random_state = 1)\n",
    "avg_price_simple_random_with_replacement = st.mean(simple_random_with_replacement['price'])\n",
    "print(\"Average price (Simple Random Sampling with replacement):\", round(avg_price_simple_random_with_replacement, 2))\n",
    "\n",
    "\n",
    "# Systematic Sampling\n",
    "\n",
    "stepsize = len(df)//sample_size\n",
    "\n",
    "indexes = np.arange(0, len(df), step = stepsize)\n",
    "systematic_sample = df.iloc[indexes]\n",
    "avg_price_systematic = st.mean(systematic_sample['price'])\n",
    "print(\"Average price (Systematic Sampling):\", round(avg_price_systematic, 2))\n",
    "\n",
    "\n",
    "# Stratified sampling\n",
    "\n",
    "stratified_sample = df.groupby('premium', group_keys = False).apply(lambda x:x.sample(min(len(x), sample_size // 2)),include_groups=False)\n",
    "\n",
    "avg_price_stratified = st.mean(stratified_sample['price'])\n",
    "print(\"Average price (Stratified Sampling):\", round(avg_price_stratified, 2))\n",
    "\n",
    "\n",
    "# Cluster Sampling\n",
    "\n",
    "cluster = df[df['screen'].isin([14, 15])]  # Assuming screen size represents a cluster\n",
    "cluster_sample = cluster.sample(n=sample_size, random_state=1)\n",
    "avg_price_cluster = st.mean(cluster_sample['price'])\n",
    "print(\"Average price (Cluster Sampling):\", round(avg_price_cluster, 2))\n"
   ]
  },
  {
   "cell_type": "markdown",
   "id": "e3ac293d-3843-4612-9714-5c179715154e",
   "metadata": {},
   "source": [
    "### Task 2.c "
   ]
  },
  {
   "cell_type": "code",
   "execution_count": 37,
   "id": "2df3e0ce-487c-4400-9c8f-26d380a4b224",
   "metadata": {},
   "outputs": [
    {
     "name": "stdout",
     "output_type": "stream",
     "text": [
      "Average Price of Premium com are : 2204.15\n",
      "Average Price of non-Premium com are : 2361.93\n",
      "Average Price of Premium com from sample data are : 2241.98\n",
      "Average Price of non-Premium com from sample data are : 2263.0\n"
     ]
    }
   ],
   "source": [
    "#Avg price of premium and non premium com in whole data\n",
    "\n",
    "avg_price_whole = df.groupby('premium')['price'].mean()\n",
    "print(\"Average Price of Premium com are :\",round(avg_premium_price['yes'],2))\n",
    "print(\"Average Price of non-Premium com are :\",round(avg_premium_price['no'],2))\n",
    "\n",
    "\n",
    "# Avg Price of premium and non premium com in simple random sampling without replacement\n",
    "\n",
    "\n",
    "avg_price_sample = simple_random_without_replacement.groupby('premium')['price'].mean()\n",
    "print(\"Average Price of Premium com from sample data are :\",round(avg_price_sample['yes'],2))\n",
    "print(\"Average Price of non-Premium com from sample data are :\",round(avg_price_sample['no'],2))\n",
    "\n"
   ]
  },
  {
   "cell_type": "code",
   "execution_count": 45,
   "id": "9348af35-f16c-480d-bf99-838d18c27940",
   "metadata": {},
   "outputs": [
    {
     "name": "stdout",
     "output_type": "stream",
     "text": [
      "nonPremium count =  612\n",
      "Premium count =  5647\n"
     ]
    }
   ],
   "source": [
    "# checking premium and non premium com count - \n",
    "\n",
    "nonpremium_com = df[(df['premium'] == 'no')]['price'].shape[0]\n",
    "premium_com = df[(df['premium'] == 'yes')]['price'].shape[0]\n",
    "print(\"nonPremium count = \",nonpremium_com)\n",
    "print(\"Premium count = \",premium_com)"
   ]
  },
  {
   "cell_type": "markdown",
   "id": "3a530e92-eb45-41e4-9828-b0cc1945a8cf",
   "metadata": {},
   "source": [
    "### Task 2.d"
   ]
  },
  {
   "cell_type": "markdown",
   "id": "66b2a7f2-76de-4217-9d27-f63b6447f313",
   "metadata": {},
   "source": [
    "### Interpretations :\n",
    "\n",
    "The average price of premium computers in whole data and sampled data are close to each other for non-premium computers the mean differece are slighlty high. \n",
    "\n",
    "also, the average price of nonpremium com are higher than premium computers.\n",
    "\n"
   ]
  },
  {
   "cell_type": "markdown",
   "id": "e677d30b-ca0e-4b64-adaa-855b0ae163a0",
   "metadata": {},
   "source": [
    "### Task 3.a"
   ]
  },
  {
   "cell_type": "code",
   "execution_count": 49,
   "id": "37bda001-ac2d-4468-97db-449b77d00f8f",
   "metadata": {},
   "outputs": [
    {
     "data": {
      "image/png": "[encoded data removed]",
      "text/plain": [
       "<Figure size 1200x600 with 1 Axes>"
      ]
     },
     "metadata": {},
     "output_type": "display_data"
    }
   ],
   "source": [
    "\n",
    "import matplotlib.pyplot as plt\n",
    "\n",
    "sample_sizes = [5, 10, 50, 100]\n",
    "price_means = {}\n",
    "\n",
    "# Simulate sample means for different sizes\n",
    "for size in sample_sizes:\n",
    "    sample_means = [df['price'].sample(size, replace=True).mean() for _ in range(1000)]\n",
    "    price_means[size] = sample_means\n",
    "\n",
    "# Plot the distributions\n",
    "plt.figure(figsize=(12, 6))\n",
    "for size in sample_sizes:\n",
    "    plt.hist(price_means[size], bins=30, alpha=0.5, label=f\"Sample Size = {size}\")\n",
    "plt.title(\"Distribution of Sample Means for Different Sample Sizes\")\n",
    "plt.xlabel(\"Sample Mean\")\n",
    "plt.ylabel(\"Frequency\")\n",
    "plt.legend()\n",
    "plt.show()\n"
   ]
  },
  {
   "cell_type": "markdown",
   "id": "c34ef19d-3480-443a-adb4-5ba8f0f65339",
   "metadata": {},
   "source": [
    "### Taks 3.b"
   ]
  },
  {
   "cell_type": "markdown",
   "id": "6783152b-a9cf-4d31-b5dd-f1af09bfd4e1",
   "metadata": {},
   "source": [
    "The distributions for sample sizes 50 and 100 are getting closer to the population mean.\n",
    "\n",
    "As the sample size increases, the distribution of sample means becomes more concentrated around the population mean, and the spread of the distribution decreases. \n",
    "This means that larger sample sizes provide more accurate estimates of the population mean"
   ]
  },
  {
   "cell_type": "markdown",
   "id": "337119da-0770-40a4-86dd-2679653462b5",
   "metadata": {},
   "source": [
    "### Taks 3.c"
   ]
  },
  {
   "cell_type": "code",
   "execution_count": 100,
   "id": "5d8368e3-f5a0-49dd-be97-93ff20cd85c0",
   "metadata": {},
   "outputs": [
    {
     "name": "stdout",
     "output_type": "stream",
     "text": [
      "population_mean = 2219.58\n",
      "sample_mean = 2243.87\n",
      "\n",
      "sample_std_dev= 580.8\n",
      "population_std_dev= 580.76\n"
     ]
    }
   ],
   "source": [
    "# Population mean \n",
    "population_mean = df['price'].mean()\n",
    "print(\"population_mean =\", round(population_mean, 2))\n",
    "\n",
    "# Sample mean\n",
    "sample_mean = simple_random_without_replacement['price'].mean()\n",
    "print(\"sample_mean =\", round(sample_mean, 2))\n",
    "\n",
    "\n",
    "# Sample standard deviation\n",
    "sample_std_dev = df['price'].std(ddof=1)  # ddof=1 for sample standard deviation\n",
    "print(\"\\nsample_std_dev=\", round((sample_std_dev),2))\n",
    "\n",
    "# Population standard deviation\n",
    "population_std_dev = df['price'].std(ddof=0)  # ddof=0 for population standard deviation\n",
    "print(\"population_std_dev=\", round((population_std_dev),2))"
   ]
  },
  {
   "cell_type": "markdown",
   "id": "13f1b33a-28d0-484d-9984-eec7d8d7a44b",
   "metadata": {},
   "source": [
    "#### If properties of the Central Limit Theorem for the samples are satisfied.\n",
    "In our study,\n",
    "\n",
    "1. The sample mean distribution approximates a normal distribution for large sample sizes, regardless of the population distribution.\n",
    "   \n",
    "2. The mean of the sample means (2243.87) is close to the population mean (2219.58).\n",
    "\n",
    "3. Sample standard deviation is equal to population standard deviation.\n"
   ]
  }
 ],
 "metadata": {
  "kernelspec": {
   "display_name": "Python 3 (ipykernel)",
   "language": "python",
   "name": "python3"
  },
  "language_info": {
   "codemirror_mode": {
    "name": "ipython",
    "version": 3
   },
   "file_extension": ".py",
   "mimetype": "text/x-python",
   "name": "python",
   "nbconvert_exporter": "python",
   "pygments_lexer": "ipython3",
   "version": "3.12.4"
  }
 },
 "nbformat": 4,
 "nbformat_minor": 5
}
