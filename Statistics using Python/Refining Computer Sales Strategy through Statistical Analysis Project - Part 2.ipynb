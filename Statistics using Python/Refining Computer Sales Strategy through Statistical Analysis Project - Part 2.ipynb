{
 "cells": [
  {
   "cell_type": "code",
   "execution_count": 38,
   "id": "f1ab1ac1-2943-4666-bf10-7ef180f3dade",
   "metadata": {},
   "outputs": [],
   "source": [
    "import pandas as pd\n",
    "import numpy as np\n",
    "import matplotlib.pyplot as plt\n",
    "import seaborn as sns\n",
    "import scipy.stats as stats\n",
    "import math\n",
    "import statistics as st"
   ]
  },
  {
   "cell_type": "code",
   "execution_count": 67,
   "id": "8dde56f2-9784-454c-8e44-36ecd0e0cfdf",
   "metadata": {},
   "outputs": [
    {
     "data": {
      "text/html": [
       "<div>\n",
       "<style scoped>\n",
       "    .dataframe tbody tr th:only-of-type {\n",
       "        vertical-align: middle;\n",
       "    }\n",
       "\n",
       "    .dataframe tbody tr th {\n",
       "        vertical-align: top;\n",
       "    }\n",
       "\n",
       "    .dataframe thead th {\n",
       "        text-align: right;\n",
       "    }\n",
       "</style>\n",
       "<table border=\"1\" class=\"dataframe\">\n",
       "  <thead>\n",
       "    <tr style=\"text-align: right;\">\n",
       "      <th></th>\n",
       "      <th>index</th>\n",
       "      <th>price</th>\n",
       "      <th>speed</th>\n",
       "      <th>hd</th>\n",
       "      <th>ram</th>\n",
       "      <th>screen</th>\n",
       "      <th>cd</th>\n",
       "      <th>multi</th>\n",
       "      <th>premium</th>\n",
       "      <th>ads_2022</th>\n",
       "      <th>ads_2023</th>\n",
       "      <th>trend</th>\n",
       "    </tr>\n",
       "  </thead>\n",
       "  <tbody>\n",
       "    <tr>\n",
       "      <th>0</th>\n",
       "      <td>1</td>\n",
       "      <td>1499</td>\n",
       "      <td>25</td>\n",
       "      <td>80</td>\n",
       "      <td>4</td>\n",
       "      <td>14</td>\n",
       "      <td>no</td>\n",
       "      <td>no</td>\n",
       "      <td>yes</td>\n",
       "      <td>94</td>\n",
       "      <td>94</td>\n",
       "      <td>1</td>\n",
       "    </tr>\n",
       "    <tr>\n",
       "      <th>1</th>\n",
       "      <td>2</td>\n",
       "      <td>1795</td>\n",
       "      <td>33</td>\n",
       "      <td>85</td>\n",
       "      <td>2</td>\n",
       "      <td>14</td>\n",
       "      <td>no</td>\n",
       "      <td>no</td>\n",
       "      <td>yes</td>\n",
       "      <td>94</td>\n",
       "      <td>94</td>\n",
       "      <td>1</td>\n",
       "    </tr>\n",
       "    <tr>\n",
       "      <th>2</th>\n",
       "      <td>3</td>\n",
       "      <td>1595</td>\n",
       "      <td>25</td>\n",
       "      <td>170</td>\n",
       "      <td>4</td>\n",
       "      <td>15</td>\n",
       "      <td>no</td>\n",
       "      <td>no</td>\n",
       "      <td>yes</td>\n",
       "      <td>94</td>\n",
       "      <td>94</td>\n",
       "      <td>1</td>\n",
       "    </tr>\n",
       "    <tr>\n",
       "      <th>3</th>\n",
       "      <td>4</td>\n",
       "      <td>1849</td>\n",
       "      <td>25</td>\n",
       "      <td>170</td>\n",
       "      <td>8</td>\n",
       "      <td>14</td>\n",
       "      <td>no</td>\n",
       "      <td>no</td>\n",
       "      <td>no</td>\n",
       "      <td>94</td>\n",
       "      <td>94</td>\n",
       "      <td>1</td>\n",
       "    </tr>\n",
       "    <tr>\n",
       "      <th>4</th>\n",
       "      <td>5</td>\n",
       "      <td>3295</td>\n",
       "      <td>33</td>\n",
       "      <td>340</td>\n",
       "      <td>16</td>\n",
       "      <td>14</td>\n",
       "      <td>no</td>\n",
       "      <td>no</td>\n",
       "      <td>yes</td>\n",
       "      <td>94</td>\n",
       "      <td>104</td>\n",
       "      <td>1</td>\n",
       "    </tr>\n",
       "  </tbody>\n",
       "</table>\n",
       "</div>"
      ],
      "text/plain": [
       "   index  price  speed   hd  ram  screen  cd multi premium  ads_2022  \\\n",
       "0      1   1499     25   80    4      14  no    no     yes        94   \n",
       "1      2   1795     33   85    2      14  no    no     yes        94   \n",
       "2      3   1595     25  170    4      15  no    no     yes        94   \n",
       "3      4   1849     25  170    8      14  no    no      no        94   \n",
       "4      5   3295     33  340   16      14  no    no     yes        94   \n",
       "\n",
       "   ads_2023  trend  \n",
       "0        94      1  \n",
       "1        94      1  \n",
       "2        94      1  \n",
       "3        94      1  \n",
       "4       104      1  "
      ]
     },
     "execution_count": 67,
     "metadata": {},
     "output_type": "execute_result"
    }
   ],
   "source": [
    "df = pd.read_csv(\"C:/Users/mishrap6/OneDrive - Zimmer Biomet/Downloads/DS1_C8_Computers_Data_Project (1).csv\")\n",
    "df.head()"
   ]
  },
  {
   "cell_type": "code",
   "execution_count": 71,
   "id": "0117fd74-576f-46b5-80b0-58a5a92c19be",
   "metadata": {},
   "outputs": [
    {
     "name": "stdout",
     "output_type": "stream",
     "text": [
      "[ 94 104  95 100 108 138 139 176 156 249 255 298 246 240 283 259 275 300\n",
      " 216 292 267 307 339 273 225 248 205 245 162 191 200 182 158 152 163 132\n",
      " 129  75  52  51  40  39  70]\n"
     ]
    }
   ],
   "source": [
    "print(df['ads_2023'].unique())"
   ]
  },
  {
   "cell_type": "markdown",
   "id": "f5779bca-3eef-4346-8567-82446300ce77",
   "metadata": {},
   "source": [
    "#### Task 1"
   ]
  },
  {
   "cell_type": "code",
   "execution_count": 77,
   "id": "8eb4d23c-cfbc-4eb5-8169-e279b0347af2",
   "metadata": {},
   "outputs": [
    {
     "name": "stdout",
     "output_type": "stream",
     "text": [
      "\n"
     ]
    }
   ],
   "source": [
    "p_budget_2023 = df['ads_2023'].mean()\n",
    "s_budget_2023 = df.sample(40, random_state=42)['price'].mean()\n",
    "\n",
    "print()\n",
    "n = 40\n",
    "p_sd = 74.8\n",
    "alpha = 0.05\n",
    "\n"
   ]
  },
  {
   "cell_type": "markdown",
   "id": "f3306b24-3b22-4a2a-b776-a1de3c742c92",
   "metadata": {},
   "source": [
    "Null Hypothesis : The avg budget in 2023 <= the avg budget in 2022 ( H0:x<= ≤221.3 ) in 2023\n",
    "Alternate Hypothesis : The avg budget in 2023 <= the avg budget in 2022 ( Ha:x>221.3) in 2023\n",
    "\n",
    "###### test to be performed :\n",
    "One sided z test or right sided t test due to mean greater."
   ]
  },
  {
   "cell_type": "code",
   "execution_count": 79,
   "id": "eb838956-ceb6-4eab-8050-1f5505b71714",
   "metadata": {},
   "outputs": [
    {
     "name": "stdout",
     "output_type": "stream",
     "text": [
      "z_statitics:  203.49\n",
      "z_critical:  1.6448536269514722\n",
      "p_value:  0.0\n",
      "\n",
      "Decision: Reject the null hypothesis (H0)\n"
     ]
    }
   ],
   "source": [
    "z_statistics = s_budget_2023 - p_budget_2023/(p_sd/math.sqrt(n))\n",
    "print(\"z_statitics: \",round(z_statitics,2))\n",
    "\n",
    "z_critical = stats.norm.ppf(1 - alpha)\n",
    "print(\"z_critical: \",z_critical)\n",
    "\n",
    "p_value = stats.norm.sf(abs(z_statistics))\n",
    "print(\"p_value: \",p_value)\n",
    "\n",
    "#Decision\n",
    "if abs(z_statitics >= z_critical) and p_value < alpha:\n",
    "    result = \"Reject the null hypothesis (H0)\"\n",
    "else:\n",
    "    result = \"Fail to reject the null hypothesis (H0)\"\n",
    "\n",
    "# Output\n",
    "print(f\"\\nDecision: {result}\")"
   ]
  },
  {
   "cell_type": "markdown",
   "id": "2ee1dd23-72d5-469a-bd01-1627695f1bff",
   "metadata": {},
   "source": [
    "#### Task 2"
   ]
  },
  {
   "cell_type": "markdown",
   "id": "a6d06c02-84fe-4042-a1a6-7d5008eebca1",
   "metadata": {},
   "source": [
    "Null Hypothesis : H0 : There is no significant difference between com prices with CD and without CDX1(with cd) = X2(without CD)\n",
    "Alternate Hypothesis : There is significant difference between com prices with CD and without CD H0 : X1(with cd) != X2(without CD)\n",
    "\n",
    "Test to be perform : two sided Z test with 2 samples"
   ]
  },
  {
   "cell_type": "markdown",
   "id": "a657c4d2-312d-4903-a9d0-ed7f8ba28d27",
   "metadata": {},
   "source": [
    "Decision Rule: \n",
    "1. If P_value < alpha, : Reject Null hyoptheis\n",
    "2. If z_statistics > z_critical : Reject Null hyoptheis"
   ]
  },
  {
   "cell_type": "code",
   "execution_count": 167,
   "id": "ca4a9053-9bb3-4087-a35c-d636e22a3dfe",
   "metadata": {},
   "outputs": [
    {
     "name": "stdout",
     "output_type": "stream",
     "text": [
      "Population Means: p1_mean = 2342.6055708390645, p2_mean = 2112.8119964189796\n",
      "Sample with CD: Mean = 2232.24, Std Dev = 416.3340279837127, Variance = 173334.02285714287, Size = 50\n",
      "Sample without CD: Mean = 2004.82, Std Dev = 442.6257778119949, Variance = 195917.5791836735, Size = 50\n"
     ]
    }
   ],
   "source": [
    "# Z test woth 2 sample\n",
    "\n",
    "data_withCD = df[(df['cd'] == 'yes')]\n",
    "p1_mean = data_withCD['price'].mean()\n",
    "\n",
    "data_withoutCD = df[(df['cd'] == 'no')]\n",
    "p2_mean = data_withoutCD['price'].mean()\n",
    "\n",
    "\n",
    "sample_withCD = data_withCD.sample(n= 50, random_state = 5)\n",
    "sample_withoutCD = data_withoutCD.sample(n= 50, random_state = 5)\n",
    "\n",
    "#sample with CD\n",
    "\n",
    "s1_mean = sample_withCD['price'].mean()\n",
    "s1_sd = sample_withCD['price'].std(ddof=1)\n",
    "s1_var = s1_sd**2\n",
    "n1 = 50\n",
    "\n",
    "\n",
    "#sample without CD\n",
    "\n",
    "s2_mean = sample_withoutCD['price'].mean()\n",
    "s2_sd = sample_withoutCD['price'].std(ddof=1)  \n",
    "s2_var = s2_sd**2\n",
    "n2 = 50\n",
    "\n",
    "\n",
    "# Output results\n",
    "print(f\"Population Means: p1_mean = {p1_mean}, p2_mean = {p2_mean}\")\n",
    "print(f\"Sample with CD: Mean = {s1_mean}, Std Dev = {s1_sd}, Variance = {s1_var}, Size = {n1}\")\n",
    "print(f\"Sample without CD: Mean = {s2_mean}, Std Dev = {s2_sd}, Variance = {s2_var}, Size = {n2}\")\n",
    "\n"
   ]
  },
  {
   "cell_type": "code",
   "execution_count": 171,
   "id": "bb516a4a-da73-46ea-972f-55b13074aca3",
   "metadata": {},
   "outputs": [
    {
     "name": "stdout",
     "output_type": "stream",
     "text": [
      "z_statistical:  -0.027620189951649547\n",
      "The z-critical value is  1.959963984540054\n",
      "The p_value is  0.9779650785548075\n",
      "\n",
      "Decision: Fail to reject the null hypothesis (H0),\n",
      "There is significant difference between com prices with CD and without CD\n"
     ]
    }
   ],
   "source": [
    "#Statistical analysis for two sided Z test with 2 samples:\n",
    "from scipy.stats import norm\n",
    "alpha2 = 0.05\n",
    "\n",
    "z2_statistics = ((s1_mean - s2_mean) - (p1_mean-p2_mean))/(math.sqrt(s1_var/n1 + s2_var/n2)) \n",
    "print(\"z_statistical: \",z2_statistical)\n",
    "\n",
    "z2_critical = norm.ppf(1 - alpha/2) # two tailed test\n",
    "print(\"The z-critical value is \",z2_critical)\n",
    "\n",
    "p2_value = norm.sf(abs(z2_statistics))*2 #two tailed test\n",
    "print(\"The p_value is \",p2_value)\n",
    "\n",
    "#Decision\n",
    "if abs(z2_statistics >= z2_critical) and p2_value < alpha2:\n",
    "    result = \"Reject the null hypothesis (H0), \\nThere is no significant difference between com prices with CD and without CD\"\n",
    "else:\n",
    "    result = \"Fail to reject the null hypothesis (H0),\\nThere is significant difference between com prices with CD and without CD\"\n",
    "\n",
    "# Output\n",
    "print(f\"\\nDecision: {result}\")"
   ]
  },
  {
   "cell_type": "markdown",
   "id": "024d8a75-9175-4efc-aa27-bc7cdf5b1669",
   "metadata": {},
   "source": [
    "#### Task 3a"
   ]
  },
  {
   "cell_type": "code",
   "execution_count": null,
   "id": "dc392244-aeca-4a24-bf02-04adb640c43f",
   "metadata": {},
   "outputs": [],
   "source": [
    "Null Hypothesis : Avg price equal to 2200 billion dollar. H0: x = 2200\n",
    "Null Hypothesis : Avg price less tha or greater than 2200 billion dollar. HA: x != 2200\n",
    "\n",
    "Test to perform :\n",
    "Two tailed T-test"
   ]
  },
  {
   "cell_type": "code",
   "execution_count": 164,
   "id": "732b8fe3-318f-49e5-a51f-106c5da882f8",
   "metadata": {},
   "outputs": [
    {
     "name": "stdout",
     "output_type": "stream",
     "text": [
      "t-statistic: 2282.634570926792\n",
      "t-critical value: 2.0638985616280205\n",
      "p_value : 0.0\n",
      "\n",
      "Decision: Reject the null hypothesis (H0), \n",
      "Avg price equal to 2200 billion dollar\n"
     ]
    }
   ],
   "source": [
    "sample_size=25\n",
    "alpha = 0.05\n",
    "dof = sample_size-1\n",
    "population_data = df[(df['premium'] == 'yes')]\n",
    "p_mean = population_data['price'].mean()\n",
    "\n",
    "sample_data = population_data.sample(n=25, random_state = 42)\n",
    "\n",
    "sample_mean = sample_data['price'].mean()\n",
    "sample_stdev = sample_data['price'].std()\n",
    "sample_var = sample_stdev**2\n",
    "\n",
    "\n",
    "# calc two tailed t test\n",
    "t_statistics2 = sample_mean-p_mean/(sample_stdev/math.sqrt(sample_size))\n",
    "print(\"t-statistic:\", t_statistics2)\n",
    "\n",
    "t_critical2 = stats.t.ppf(1 - alpha / 2, dof)\n",
    "print(\"t-critical value:\", t_critical2)\n",
    "\n",
    "p_value1 = t.sf(abs(t_statistics2), dof) * 2 \n",
    "print(\"p_value :\",round((p_value1),2))\n",
    "\n",
    "#Decision\n",
    "if abs(t_statistics2 >= t_critical2) and p_value1 < alpha:\n",
    "    result = \"Reject the null hypothesis (H0), \\nAvg price equal to 2200 billion dollar\"\n",
    "else:\n",
    "    result = \"Fail to reject the null hypothesis (H0),\\nAvg price less than or greater than 2200 billion dollar.\"\n",
    "\n",
    "# Output\n",
    "print(f\"\\nDecision: {result}\")\n",
    "\n",
    "\n"
   ]
  },
  {
   "cell_type": "markdown",
   "id": "f0b804eb-c152-4d5d-981f-b6420cc0dae1",
   "metadata": {},
   "source": [
    "#### Task 3.b\n"
   ]
  },
  {
   "cell_type": "markdown",
   "id": "200d0b7c-eb07-4b8b-9105-6ea17ecbc346",
   "metadata": {},
   "source": [
    "Null Hypothesis : Avg price of premium and nonpremium are equal. H0:X1=x2\n",
    "Alternate Hypothesis : Avg price of premium and nonpremium are not equal. H0:X1!=x2\n",
    "\n",
    "Test :\n",
    "2 sided Z test with 2 samples "
   ]
  },
  {
   "cell_type": "code",
   "execution_count": 158,
   "id": "d371884b-f3a6-4730-a4e3-9be08453adba",
   "metadata": {},
   "outputs": [
    {
     "name": "stdout",
     "output_type": "stream",
     "text": [
      "z_statistics:  0.8079834188506175\n",
      "The z-critical value is  1.959963984540054\n",
      "The p_value is  0.41910012745101954\n",
      "\n",
      "Decision: Fail to reject the null hypothesis (H0), \n",
      "There is no significant difference in the average prices of premium and non-premium computers.\n"
     ]
    }
   ],
   "source": [
    "#Premium comp data\n",
    "premium_data = df[(df['premium']=='yes')]\n",
    "p1_price_mean = premium_data['price'].mean()\n",
    "p1_stdev = premium_data['price'].std()\n",
    "\n",
    "n1=50\n",
    "premium_sample = premium_data.sample(n=50, random_state = 42)\n",
    "premium_sample_mean = premium_sample['price'].mean()\n",
    "premium_sample_stdev = premium_sample['price'].std()\n",
    "premium_sample_var = premium_sample_stdev**2\n",
    "\n",
    "\n",
    "#non premium comp data\n",
    "nonpremium_data = df[(df['premium']=='no')]\n",
    "p2_price_mean = nonpremium_data['price'].mean()\n",
    "p2_stdev = nonpremium_data['price'].std()\n",
    "\n",
    "n2=50\n",
    "nonpremium_sample = nonpremium_data.sample(n=50, random_state = 42)\n",
    "nonpremium_sample_mean = nonpremium_sample['price'].mean()\n",
    "nonpremium_sample_stdev = nonpremium_sample['price'].std()\n",
    "nonpremium_sample_var = nonpremium_sample_stdev**2\n",
    "\n",
    "\n",
    "# statical analysis \n",
    "alpha = 0.05\n",
    "\n",
    "z_stat = ((premium_sample_mean-nonpremium_sample_mean) - (p1_price_mean-p2_price_mean))/math.sqrt(premium_sample_var/n1 + nonpremium_sample_var/n2) \n",
    "print(\"z_statistics: \",z_stat)\n",
    "\n",
    "\n",
    "z_crit = norm.ppf(1-alpha/2) \n",
    "print(\"The z-critical value is \",z_crit)\n",
    "\n",
    "\n",
    "p = norm.sf(abs(z_stat))*2 #two tailed test\n",
    "print(\"The p_value is \",p)\n",
    "\n",
    "#Decision\n",
    "if abs(z_stat >= z_crit) and p < alpha:\n",
    "    result = \"Reject the null hypothesis (H0),\\nThere is significant difference between average price of Premium and non premium computers\"\n",
    "else:\n",
    "    result = \"Fail to reject the null hypothesis (H0), \\nThere is no significant difference in the average prices of premium and non-premium computers.\"\n",
    "\n",
    "# Output\n",
    "print(f\"\\nDecision: {result}\")\n"
   ]
  },
  {
   "cell_type": "code",
   "execution_count": null,
   "id": "97944930-eb94-4929-8d0a-e3a8b6663d9b",
   "metadata": {},
   "outputs": [],
   "source": []
  }
 ],
 "metadata": {
  "kernelspec": {
   "display_name": "Python 3 (ipykernel)",
   "language": "python",
   "name": "python3"
  },
  "language_info": {
   "codemirror_mode": {
    "name": "ipython",
    "version": 3
   },
   "file_extension": ".py",
   "mimetype": "text/x-python",
   "name": "python",
   "nbconvert_exporter": "python",
   "pygments_lexer": "ipython3",
   "version": "3.12.4"
  }
 },
 "nbformat": 4,
 "nbformat_minor": 5
}
